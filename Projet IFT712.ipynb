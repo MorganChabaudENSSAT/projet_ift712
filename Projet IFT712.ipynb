{
 "cells": [
  {
   "cell_type": "markdown",
   "metadata": {},
   "source": [
    "# Rapport de projet de session - IFT 712\n",
    "### Objectif du projet : tester six méthodes de classification sur une base de données Kaggle.\n",
    "\n",
    "Nous avons choisi la base de données (INSERER BASE DE DONNEES) car (INSERER RAISONS).\n",
    "Les méthodes de classification que nous allons tester sont les suivantes : (A MODIFIER EN FONCTION DES CHOIX DE L'EQUIPE)\n",
    "* Modèle génératif\n",
    "* K plus proches voisins\n",
    "* Régression logistique\n",
    "* Méthode à noyaux\n",
    "* SVM\n",
    "* Perceptron multicouches\n",
    "Pour cela, nous allons utiliser la bibliothèque scikit-learn. Vous pourrez trouver notre tavail sur notre [Github][1]\n",
    "[1]: https://github.com/MorganChabaudENSSAT/projet_ift712"
   ]
  },
  {
   "cell_type": "code",
   "execution_count": null,
   "metadata": {},
   "outputs": [],
   "source": []
  }
 ],
 "metadata": {
  "kernelspec": {
   "display_name": "Python 3",
   "language": "python",
   "name": "python3"
  },
  "language_info": {
   "codemirror_mode": {
    "name": "ipython",
    "version": 3
   },
   "file_extension": ".py",
   "mimetype": "text/x-python",
   "name": "python",
   "nbconvert_exporter": "python",
   "pygments_lexer": "ipython3",
   "version": "3.7.1"
  }
 },
 "nbformat": 4,
 "nbformat_minor": 2
}
