{
 "cells": [
  {
   "cell_type": "markdown",
   "metadata": {},
   "source": [
    "# Rapport de projet de session - IFT 712\n",
    "### Objectif du projet : tester six méthodes de classification sur une base de données Kaggle.\n",
    "\n",
    "Nous avons choisi la base de données \"Heart Failure Prediction Dataset\" puisqu'elle permet de faire de la classification sur un jeu de données réel et avec des applications concrètes.\n",
    "Les méthodes de classification que nous allons tester sont les suivantes :\n",
    "* Modèle génératif\n",
    "* K plus proches voisins\n",
    "* Régression logistique\n",
    "* Méthode à noyaux\n",
    "* SVM\n",
    "* Perceptron multicouches\n",
    "\n",
    "Pour cela, nous utiliserons la bibliothèque scikit-learn pour implémenter les algotihmes ainsi que pandas  pour traiter les données\n",
    "\n",
    "Nous utiliserons également [Trello][1] ainsi que discord afin d'organiser le projet\n",
    "Le code est versionné sur [Github][1] en suivant les conventions suivantes :\n",
    "* conventionals [commits][3]\n",
    "* merge requests sur master\n",
    "* une branche par feature (i.e par algorithme de classification)\n",
    "\n",
    "Le code et les commentaires sont rédigés en francais et suivant la convention [pep8][4]. Nous utiliserons la fonctionnalité \"code with me\" de pycharm permettant à plussieurs membres du groupe de coder sur le même projet en même temps\n",
    "\n",
    "[1]: https://trello.com/b/U21MHLaj/projet-ift712-deadline-11-12-23\n",
    "[2]: https://github.com/MorganChabaudENSSAT/projet_ift712\n",
    "[3]: https://www.conventionalcommits.org/en/v1.0.0/\n",
    "[4]: https://peps.python.org/pep-0008/"
   ]
  },
  {
   "cell_type": "code",
   "execution_count": 56,
   "metadata": {
    "ExecuteTime": {
     "end_time": "2023-12-05T01:12:38.986902100Z",
     "start_time": "2023-12-05T01:12:38.979392900Z"
    }
   },
   "outputs": [],
   "source": [
    "'''\n",
    " Imporation des bibliothèques python générales\n",
    "'''\n",
    "import numpy as np\n",
    "import pandas as pd\n",
    "from sklearn.preprocessing import LabelEncoder\n",
    "from sklearn.model_selection import train_test_split\n",
    "from sklearn.linear_model import LogisticRegression\n",
    "from sklearn.metrics import classification_report\n",
    "\n",
    "'''\n",
    " Imporation des bibliothèques spécifiques au devoir\n",
    "'''\n",
    "\n",
    "import utils"
   ]
  },
  {
   "cell_type": "code",
   "execution_count": 52,
   "outputs": [
    {
     "name": "stdout",
     "output_type": "stream",
     "text": [
      "   Age Sex ChestPainType  RestingBP  Cholesterol  FastingBS RestingECG  MaxHR  \\\n",
      "0   40   M           ATA        140          289          0     Normal    172   \n",
      "1   49   F           NAP        160          180          0     Normal    156   \n",
      "2   37   M           ATA        130          283          0         ST     98   \n",
      "3   48   F           ASY        138          214          0     Normal    108   \n",
      "4   54   M           NAP        150          195          0     Normal    122   \n",
      "\n",
      "  ExerciseAngina  Oldpeak ST_Slope  HeartDisease  \n",
      "0              N      0.0       Up             0  \n",
      "1              N      1.0     Flat             1  \n",
      "2              N      0.0       Up             0  \n",
      "3              Y      1.5     Flat             1  \n",
      "4              N      0.0       Up             0  \n",
      "Age                 int64\n",
      "Sex                object\n",
      "ChestPainType      object\n",
      "RestingBP           int64\n",
      "Cholesterol         int64\n",
      "FastingBS           int64\n",
      "RestingECG         object\n",
      "MaxHR               int64\n",
      "ExerciseAngina     object\n",
      "Oldpeak           float64\n",
      "ST_Slope           object\n",
      "HeartDisease        int64\n",
      "dtype: object\n"
     ]
    }
   ],
   "source": [
    "# Importation des données\n",
    "df = pd.read_csv('heart.csv') # Dataframe contenant les données\n",
    "columns_names = df.columns\n",
    "\n",
    "# Visualisation des données pour mieux les comprendre\n",
    "print(df.head())\n",
    "print(df.dtypes)"
   ],
   "metadata": {
    "collapsed": false,
    "ExecuteTime": {
     "end_time": "2023-12-05T00:53:45.961194300Z",
     "start_time": "2023-12-05T00:53:45.945568200Z"
    }
   }
  },
  {
   "cell_type": "code",
   "execution_count": 58,
   "outputs": [
    {
     "name": "stdout",
     "output_type": "stream",
     "text": [
      "     Age  Sex  ChestPainType  RestingBP  Cholesterol  FastingBS  RestingECG  \\\n",
      "0     40    0              1        140          289          0           1   \n",
      "1     49    1              2        160          180          0           1   \n",
      "2     37    0              1        130          283          0           2   \n",
      "3     48    1              0        138          214          0           1   \n",
      "4     54    0              2        150          195          0           1   \n",
      "..   ...  ...            ...        ...          ...        ...         ...   \n",
      "913   45    0              3        110          264          0           1   \n",
      "914   68    0              0        144          193          1           1   \n",
      "915   57    0              0        130          131          0           1   \n",
      "916   57    1              1        130          236          0           0   \n",
      "917   38    0              2        138          175          0           1   \n",
      "\n",
      "     MaxHR  ExerciseAngina  Oldpeak  ST_Slope  HeartDisease  \n",
      "0      172               0      0.0         2             0  \n",
      "1      156               0      1.0         1             1  \n",
      "2       98               0      0.0         2             0  \n",
      "3      108               1      1.5         1             1  \n",
      "4      122               0      0.0         2             0  \n",
      "..     ...             ...      ...       ...           ...  \n",
      "913    132               0      1.2         1             1  \n",
      "914    141               0      3.4         1             1  \n",
      "915    115               1      1.2         1             1  \n",
      "916    174               0      0.0         1             1  \n",
      "917    173               0      0.0         2             0  \n",
      "\n",
      "[918 rows x 12 columns]\n"
     ]
    }
   ],
   "source": [
    "# De cette visualisation des données, on  remarque que certaines features ne sont pas numériques ce qui empêche de les utiliser telles quelles dans les algorithmes de classification.\n",
    "# => On va donc devoir traiter ces valeurs en les encodant.\n",
    "le = LabelEncoder()\n",
    "\n",
    "data = df.copy(deep = True)\n",
    "\n",
    "data['Sex'] = le.fit_transform(data['Sex'])\n",
    "data['ChestPainType'] = le.fit_transform(data['ChestPainType'])\n",
    "data['RestingECG'] = le.fit_transform(data['RestingECG'])\n",
    "data['ExerciseAngina'] = le.fit_transform(data['ExerciseAngina'])\n",
    "data['ST_Slope'] = le.fit_transform(data['ST_Slope'])\n",
    "\n",
    "# Les données sont mainteant toutes numériques et utilisables par les algorithmes de classification que nous mettrons en place\n",
    "print(data)"
   ],
   "metadata": {
    "collapsed": false,
    "ExecuteTime": {
     "end_time": "2023-12-05T01:13:13.906899200Z",
     "start_time": "2023-12-05T01:13:13.896964200Z"
    }
   }
  }
 ],
 "metadata": {
  "kernelspec": {
   "display_name": "Python 3",
   "language": "python",
   "name": "python3"
  },
  "language_info": {
   "codemirror_mode": {
    "name": "ipython",
    "version": 3
   },
   "file_extension": ".py",
   "mimetype": "text/x-python",
   "name": "python",
   "nbconvert_exporter": "python",
   "pygments_lexer": "ipython3",
   "version": "3.7.1"
  }
 },
 "nbformat": 4,
 "nbformat_minor": 2
}
