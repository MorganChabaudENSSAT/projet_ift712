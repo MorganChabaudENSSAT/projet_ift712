{
 "cells": [
  {
   "cell_type": "markdown",
   "metadata": {},
   "source": [
    "# Rapport de projet de session - IFT 712\n",
    "### Objectif du projet : tester six méthodes de classification sur une base de données Kaggle.\n",
    "\n",
    "Nous avons choisi la base de données \"[Heart Failure Prediction Dataset][0]\" puisqu'elle permet de faire de la classification sur un jeu de données réel et avec des applications concrètes.\n",
    "Les méthodes de classification que nous allons tester sont les suivantes :\n",
    "* Modèle génératif\n",
    "* K plus proches voisins\n",
    "* Régression logistique\n",
    "* Méthode à noyaux\n",
    "* SVM\n",
    "* Perceptron multicouches\n",
    "\n",
    "Pour cela, nous utiliserons la bibliothèque scikit-learn pour implémenter les algotihmes ainsi que pandas  pour traiter les données\n",
    "\n",
    "Nous utiliserons également [Trello][1] ainsi que discord afin d'organiser le projet\n",
    "Le code est versionné sur [Github][1] en suivant les conventions suivantes :\n",
    "* conventionals [commits][3]\n",
    "* merge requests sur master\n",
    "* une branche par feature (i.e par algorithme de classification)\n",
    "\n",
    "Le code et les commentaires sont rédigés en francais et suivant la convention [pep8][4]. Nous utiliserons la fonctionnalité \"code with me\" de pycharm permettant à plussieurs membres du groupe de coder sur le même projet en même temps\n",
    "\n",
    "[0]: https://www.kaggle.com/datasets/fedesoriano/heart-failure-prediction\n",
    "[1]: https://trello.com/b/U21MHLaj/projet-ift712-deadline-11-12-23\n",
    "[2]: https://github.com/MorganChabaudENSSAT/projet_ift712\n",
    "[3]: https://www.conventionalcommits.org/en/v1.0.0/\n",
    "[4]: https://peps.python.org/pep-0008/"
   ]
  },
  {
   "cell_type": "code",
   "execution_count": 1,
   "metadata": {
    "ExecuteTime": {
     "end_time": "2023-12-10T04:52:56.475208400Z",
     "start_time": "2023-12-10T04:52:56.222182700Z"
    }
   },
   "outputs": [],
   "source": [
    "'''\n",
    " Imporation des bibliothèques python générales\n",
    "'''\n",
    "import numpy as np\n",
    "import pandas as pd\n",
    "from sklearn.preprocessing import LabelEncoder\n",
    "from sklearn.model_selection import GridSearchCV\n",
    "import matplotlib.pyplot as plt\n",
    "import seaborn as sns\n",
    "from sklearn.model_selection import train_test_split\n",
    "from sklearn.linear_model import LogisticRegression\n",
    "from sklearn.metrics import classification_report\n",
    "import warnings\n",
    "\n",
    "'''\n",
    " Imporation des bibliothèques spécifiques au devoir\n",
    "'''\n",
    "from regression_logistique import RegressionLogistique\n",
    "import utils\n",
    "\n",
    "'''\n",
    "    Suppression des Future Warnings \n",
    "'''\n",
    "warnings.simplefilter(action='ignore', category=FutureWarning)"
   ]
  },
  {
   "cell_type": "code",
   "execution_count": 2,
   "outputs": [
    {
     "name": "stdout",
     "output_type": "stream",
     "text": [
      "nombre de features dans le dataset : 12\n",
      "   Age Sex ChestPainType  RestingBP  Cholesterol  FastingBS RestingECG  MaxHR  \\\n",
      "0   40   M           ATA        140          289          0     Normal    172   \n",
      "1   49   F           NAP        160          180          0     Normal    156   \n",
      "2   37   M           ATA        130          283          0         ST     98   \n",
      "3   48   F           ASY        138          214          0     Normal    108   \n",
      "4   54   M           NAP        150          195          0     Normal    122   \n",
      "\n",
      "  ExerciseAngina  Oldpeak ST_Slope  HeartDisease  \n",
      "0              N      0.0       Up             0  \n",
      "1              N      1.0     Flat             1  \n",
      "2              N      0.0       Up             0  \n",
      "3              Y      1.5     Flat             1  \n",
      "4              N      0.0       Up             0  \n",
      "Age                 int64\n",
      "Sex                object\n",
      "ChestPainType      object\n",
      "RestingBP           int64\n",
      "Cholesterol         int64\n",
      "FastingBS           int64\n",
      "RestingECG         object\n",
      "MaxHR               int64\n",
      "ExerciseAngina     object\n",
      "Oldpeak           float64\n",
      "ST_Slope           object\n",
      "HeartDisease        int64\n",
      "dtype: object\n"
     ]
    }
   ],
   "source": [
    "# Importation des données\n",
    "df = pd.read_csv('heart.csv') # Dataframe contenant les données\n",
    "features_names = df.columns\n",
    "features_nbr = features_names.shape[0]\n",
    "print(f\"nombre de features dans le dataset : {features_nbr}\")\n",
    "# Visualisation des données pour mieux les comprendre\n",
    "print(df.head())\n",
    "print(df.dtypes)"
   ],
   "metadata": {
    "collapsed": false,
    "ExecuteTime": {
     "end_time": "2023-12-10T04:52:56.475208400Z",
     "start_time": "2023-12-10T04:52:56.445546300Z"
    }
   }
  },
  {
   "cell_type": "markdown",
   "source": [
    "A partir de cette visualisation primaire des données, on  remarque que certaines features sont catégoriques ce qui empêche de les utiliser telles quelles dans les algorithmes de classification.\n",
    "=> On va donc devoir traiter ces valeurs en les encodant."
   ],
   "metadata": {
    "collapsed": false
   }
  },
  {
   "cell_type": "code",
   "execution_count": 3,
   "outputs": [
    {
     "name": "stdout",
     "output_type": "stream",
     "text": [
      "     Age  Sex  ChestPainType  RestingBP  Cholesterol  FastingBS  RestingECG  \\\n",
      "0     40    1              1        140          289          0           1   \n",
      "1     49    0              2        160          180          0           1   \n",
      "2     37    1              1        130          283          0           2   \n",
      "3     48    0              0        138          214          0           1   \n",
      "4     54    1              2        150          195          0           1   \n",
      "..   ...  ...            ...        ...          ...        ...         ...   \n",
      "913   45    1              3        110          264          0           1   \n",
      "914   68    1              0        144          193          1           1   \n",
      "915   57    1              0        130          131          0           1   \n",
      "916   57    0              1        130          236          0           0   \n",
      "917   38    1              2        138          175          0           1   \n",
      "\n",
      "     MaxHR  ExerciseAngina  Oldpeak  ST_Slope  HeartDisease  \n",
      "0      172               0      0.0         2             0  \n",
      "1      156               0      1.0         1             1  \n",
      "2       98               0      0.0         2             0  \n",
      "3      108               1      1.5         1             1  \n",
      "4      122               0      0.0         2             0  \n",
      "..     ...             ...      ...       ...           ...  \n",
      "913    132               0      1.2         1             1  \n",
      "914    141               0      3.4         1             1  \n",
      "915    115               1      1.2         1             1  \n",
      "916    174               0      0.0         1             1  \n",
      "917    173               0      0.0         2             0  \n",
      "\n",
      "[918 rows x 12 columns]\n"
     ]
    }
   ],
   "source": [
    "le = LabelEncoder()\n",
    "\n",
    "data = df.copy(deep = True)\n",
    "\n",
    "data['Sex'] = le.fit_transform(data['Sex'])\n",
    "data['ChestPainType'] = le.fit_transform(data['ChestPainType'])\n",
    "data['RestingECG'] = le.fit_transform(data['RestingECG'])\n",
    "data['ExerciseAngina'] = le.fit_transform(data['ExerciseAngina'])\n",
    "data['ST_Slope'] = le.fit_transform(data['ST_Slope'])\n",
    "\n",
    "# Les données sont mainteant toutes numériques et utilisables par les algorithmes de classification que nous mettrons en place\n",
    "print(data)\n",
    "\n",
    "#On récupère dasn des listes les données qui était catégoriques\n",
    "categorical_features = ['Sex','ChestPainType','RestingECG','ExerciseAngina','ST_Slope']\n",
    "numerical_features = [x for x in features_names if x not in categorical_features]\n",
    "numerical_features = numerical_features[:-1]"
   ],
   "metadata": {
    "collapsed": false,
    "ExecuteTime": {
     "end_time": "2023-12-10T04:52:56.475208400Z",
     "start_time": "2023-12-10T04:52:56.459578900Z"
    }
   }
  },
  {
   "cell_type": "markdown",
   "source": [
    "A présent, on explore les données à l'aide de visualisations afin de mieux comprendre leur nature et détecter les features les plus caractéristiques ainsi que la nature des distributions des données afin, au besoin, de formuler des hypothèses nous permettant de mettre en oeuvre différents modèles.\n",
    "On commence par visualiser la distribution de chaque feature."
   ],
   "metadata": {
    "collapsed": false
   }
  },
  {
   "cell_type": "code",
   "execution_count": 4,
   "outputs": [
    {
     "name": "stderr",
     "output_type": "stream",
     "text": [
      "C:\\Users\\taill\\AppData\\Local\\Temp\\ipykernel_19984\\1165184245.py:6: UserWarning: \n",
      "\n",
      "`distplot` is a deprecated function and will be removed in seaborn v0.14.0.\n",
      "\n",
      "Please adapt your code to use either `displot` (a figure-level function with\n",
      "similar flexibility) or `histplot` (an axes-level function for histograms).\n",
      "\n",
      "For a guide to updating your code to use the new functions, please see\n",
      "https://gist.github.com/mwaskom/de44147ed2974457ad6372750bbe5751\n",
      "\n",
      "  sns.distplot(data[cur_feature], kde_kws={'bw' : 1})\n",
      "C:\\Users\\taill\\anaconda3\\lib\\site-packages\\seaborn\\distributions.py:2496: UserWarning: \n",
      "\n",
      "The `bw` parameter is deprecated in favor of `bw_method` and `bw_adjust`.\n",
      "Setting `bw_method=1`, but please see the docs for the new parameters\n",
      "and update your code. This will become an error in seaborn v0.14.0.\n",
      "\n",
      "  kdeplot(**{axis: a}, ax=ax, color=kde_color, **kde_kws)\n",
      "C:\\Users\\taill\\AppData\\Local\\Temp\\ipykernel_19984\\1165184245.py:6: UserWarning: \n",
      "\n",
      "`distplot` is a deprecated function and will be removed in seaborn v0.14.0.\n",
      "\n",
      "Please adapt your code to use either `displot` (a figure-level function with\n",
      "similar flexibility) or `histplot` (an axes-level function for histograms).\n",
      "\n",
      "For a guide to updating your code to use the new functions, please see\n",
      "https://gist.github.com/mwaskom/de44147ed2974457ad6372750bbe5751\n",
      "\n",
      "  sns.distplot(data[cur_feature], kde_kws={'bw' : 1})\n",
      "C:\\Users\\taill\\anaconda3\\lib\\site-packages\\seaborn\\distributions.py:2496: UserWarning: \n",
      "\n",
      "The `bw` parameter is deprecated in favor of `bw_method` and `bw_adjust`.\n",
      "Setting `bw_method=1`, but please see the docs for the new parameters\n",
      "and update your code. This will become an error in seaborn v0.14.0.\n",
      "\n",
      "  kdeplot(**{axis: a}, ax=ax, color=kde_color, **kde_kws)\n",
      "C:\\Users\\taill\\AppData\\Local\\Temp\\ipykernel_19984\\1165184245.py:6: UserWarning: \n",
      "\n",
      "`distplot` is a deprecated function and will be removed in seaborn v0.14.0.\n",
      "\n",
      "Please adapt your code to use either `displot` (a figure-level function with\n",
      "similar flexibility) or `histplot` (an axes-level function for histograms).\n",
      "\n",
      "For a guide to updating your code to use the new functions, please see\n",
      "https://gist.github.com/mwaskom/de44147ed2974457ad6372750bbe5751\n",
      "\n",
      "  sns.distplot(data[cur_feature], kde_kws={'bw' : 1})\n",
      "C:\\Users\\taill\\anaconda3\\lib\\site-packages\\seaborn\\distributions.py:2496: UserWarning: \n",
      "\n",
      "The `bw` parameter is deprecated in favor of `bw_method` and `bw_adjust`.\n",
      "Setting `bw_method=1`, but please see the docs for the new parameters\n",
      "and update your code. This will become an error in seaborn v0.14.0.\n",
      "\n",
      "  kdeplot(**{axis: a}, ax=ax, color=kde_color, **kde_kws)\n",
      "C:\\Users\\taill\\AppData\\Local\\Temp\\ipykernel_19984\\1165184245.py:6: UserWarning: \n",
      "\n",
      "`distplot` is a deprecated function and will be removed in seaborn v0.14.0.\n",
      "\n",
      "Please adapt your code to use either `displot` (a figure-level function with\n",
      "similar flexibility) or `histplot` (an axes-level function for histograms).\n",
      "\n",
      "For a guide to updating your code to use the new functions, please see\n",
      "https://gist.github.com/mwaskom/de44147ed2974457ad6372750bbe5751\n",
      "\n",
      "  sns.distplot(data[cur_feature], kde_kws={'bw' : 1})\n",
      "C:\\Users\\taill\\anaconda3\\lib\\site-packages\\seaborn\\distributions.py:2496: UserWarning: \n",
      "\n",
      "The `bw` parameter is deprecated in favor of `bw_method` and `bw_adjust`.\n",
      "Setting `bw_method=1`, but please see the docs for the new parameters\n",
      "and update your code. This will become an error in seaborn v0.14.0.\n",
      "\n",
      "  kdeplot(**{axis: a}, ax=ax, color=kde_color, **kde_kws)\n",
      "C:\\Users\\taill\\AppData\\Local\\Temp\\ipykernel_19984\\1165184245.py:6: UserWarning: \n",
      "\n",
      "`distplot` is a deprecated function and will be removed in seaborn v0.14.0.\n",
      "\n",
      "Please adapt your code to use either `displot` (a figure-level function with\n",
      "similar flexibility) or `histplot` (an axes-level function for histograms).\n",
      "\n",
      "For a guide to updating your code to use the new functions, please see\n",
      "https://gist.github.com/mwaskom/de44147ed2974457ad6372750bbe5751\n",
      "\n",
      "  sns.distplot(data[cur_feature], kde_kws={'bw' : 1})\n",
      "C:\\Users\\taill\\anaconda3\\lib\\site-packages\\seaborn\\distributions.py:2496: UserWarning: \n",
      "\n",
      "The `bw` parameter is deprecated in favor of `bw_method` and `bw_adjust`.\n",
      "Setting `bw_method=1`, but please see the docs for the new parameters\n",
      "and update your code. This will become an error in seaborn v0.14.0.\n",
      "\n",
      "  kdeplot(**{axis: a}, ax=ax, color=kde_color, **kde_kws)\n",
      "C:\\Users\\taill\\AppData\\Local\\Temp\\ipykernel_19984\\1165184245.py:6: UserWarning: \n",
      "\n",
      "`distplot` is a deprecated function and will be removed in seaborn v0.14.0.\n",
      "\n",
      "Please adapt your code to use either `displot` (a figure-level function with\n",
      "similar flexibility) or `histplot` (an axes-level function for histograms).\n",
      "\n",
      "For a guide to updating your code to use the new functions, please see\n",
      "https://gist.github.com/mwaskom/de44147ed2974457ad6372750bbe5751\n",
      "\n",
      "  sns.distplot(data[cur_feature], kde_kws={'bw' : 1})\n",
      "C:\\Users\\taill\\anaconda3\\lib\\site-packages\\seaborn\\distributions.py:2496: UserWarning: \n",
      "\n",
      "The `bw` parameter is deprecated in favor of `bw_method` and `bw_adjust`.\n",
      "Setting `bw_method=1`, but please see the docs for the new parameters\n",
      "and update your code. This will become an error in seaborn v0.14.0.\n",
      "\n",
      "  kdeplot(**{axis: a}, ax=ax, color=kde_color, **kde_kws)\n",
      "C:\\Users\\taill\\AppData\\Local\\Temp\\ipykernel_19984\\1165184245.py:6: UserWarning: \n",
      "\n",
      "`distplot` is a deprecated function and will be removed in seaborn v0.14.0.\n",
      "\n",
      "Please adapt your code to use either `displot` (a figure-level function with\n",
      "similar flexibility) or `histplot` (an axes-level function for histograms).\n",
      "\n",
      "For a guide to updating your code to use the new functions, please see\n",
      "https://gist.github.com/mwaskom/de44147ed2974457ad6372750bbe5751\n",
      "\n",
      "  sns.distplot(data[cur_feature], kde_kws={'bw' : 1})\n",
      "C:\\Users\\taill\\anaconda3\\lib\\site-packages\\seaborn\\distributions.py:2496: UserWarning: \n",
      "\n",
      "The `bw` parameter is deprecated in favor of `bw_method` and `bw_adjust`.\n",
      "Setting `bw_method=1`, but please see the docs for the new parameters\n",
      "and update your code. This will become an error in seaborn v0.14.0.\n",
      "\n",
      "  kdeplot(**{axis: a}, ax=ax, color=kde_color, **kde_kws)\n",
      "C:\\Users\\taill\\AppData\\Local\\Temp\\ipykernel_19984\\1165184245.py:6: UserWarning: \n",
      "\n",
      "`distplot` is a deprecated function and will be removed in seaborn v0.14.0.\n",
      "\n",
      "Please adapt your code to use either `displot` (a figure-level function with\n",
      "similar flexibility) or `histplot` (an axes-level function for histograms).\n",
      "\n",
      "For a guide to updating your code to use the new functions, please see\n",
      "https://gist.github.com/mwaskom/de44147ed2974457ad6372750bbe5751\n",
      "\n",
      "  sns.distplot(data[cur_feature], kde_kws={'bw' : 1})\n",
      "C:\\Users\\taill\\anaconda3\\lib\\site-packages\\seaborn\\distributions.py:2496: UserWarning: \n",
      "\n",
      "The `bw` parameter is deprecated in favor of `bw_method` and `bw_adjust`.\n",
      "Setting `bw_method=1`, but please see the docs for the new parameters\n",
      "and update your code. This will become an error in seaborn v0.14.0.\n",
      "\n",
      "  kdeplot(**{axis: a}, ax=ax, color=kde_color, **kde_kws)\n",
      "C:\\Users\\taill\\AppData\\Local\\Temp\\ipykernel_19984\\1165184245.py:6: UserWarning: \n",
      "\n",
      "`distplot` is a deprecated function and will be removed in seaborn v0.14.0.\n",
      "\n",
      "Please adapt your code to use either `displot` (a figure-level function with\n",
      "similar flexibility) or `histplot` (an axes-level function for histograms).\n",
      "\n",
      "For a guide to updating your code to use the new functions, please see\n",
      "https://gist.github.com/mwaskom/de44147ed2974457ad6372750bbe5751\n",
      "\n",
      "  sns.distplot(data[cur_feature], kde_kws={'bw' : 1})\n",
      "C:\\Users\\taill\\anaconda3\\lib\\site-packages\\seaborn\\distributions.py:2496: UserWarning: \n",
      "\n",
      "The `bw` parameter is deprecated in favor of `bw_method` and `bw_adjust`.\n",
      "Setting `bw_method=1`, but please see the docs for the new parameters\n",
      "and update your code. This will become an error in seaborn v0.14.0.\n",
      "\n",
      "  kdeplot(**{axis: a}, ax=ax, color=kde_color, **kde_kws)\n",
      "C:\\Users\\taill\\AppData\\Local\\Temp\\ipykernel_19984\\1165184245.py:6: UserWarning: \n",
      "\n",
      "`distplot` is a deprecated function and will be removed in seaborn v0.14.0.\n",
      "\n",
      "Please adapt your code to use either `displot` (a figure-level function with\n",
      "similar flexibility) or `histplot` (an axes-level function for histograms).\n",
      "\n",
      "For a guide to updating your code to use the new functions, please see\n",
      "https://gist.github.com/mwaskom/de44147ed2974457ad6372750bbe5751\n",
      "\n",
      "  sns.distplot(data[cur_feature], kde_kws={'bw' : 1})\n",
      "C:\\Users\\taill\\anaconda3\\lib\\site-packages\\seaborn\\distributions.py:2496: UserWarning: \n",
      "\n",
      "The `bw` parameter is deprecated in favor of `bw_method` and `bw_adjust`.\n",
      "Setting `bw_method=1`, but please see the docs for the new parameters\n",
      "and update your code. This will become an error in seaborn v0.14.0.\n",
      "\n",
      "  kdeplot(**{axis: a}, ax=ax, color=kde_color, **kde_kws)\n",
      "C:\\Users\\taill\\AppData\\Local\\Temp\\ipykernel_19984\\1165184245.py:6: UserWarning: \n",
      "\n",
      "`distplot` is a deprecated function and will be removed in seaborn v0.14.0.\n",
      "\n",
      "Please adapt your code to use either `displot` (a figure-level function with\n",
      "similar flexibility) or `histplot` (an axes-level function for histograms).\n",
      "\n",
      "For a guide to updating your code to use the new functions, please see\n",
      "https://gist.github.com/mwaskom/de44147ed2974457ad6372750bbe5751\n",
      "\n",
      "  sns.distplot(data[cur_feature], kde_kws={'bw' : 1})\n",
      "C:\\Users\\taill\\anaconda3\\lib\\site-packages\\seaborn\\distributions.py:2496: UserWarning: \n",
      "\n",
      "The `bw` parameter is deprecated in favor of `bw_method` and `bw_adjust`.\n",
      "Setting `bw_method=1`, but please see the docs for the new parameters\n",
      "and update your code. This will become an error in seaborn v0.14.0.\n",
      "\n",
      "  kdeplot(**{axis: a}, ax=ax, color=kde_color, **kde_kws)\n",
      "C:\\Users\\taill\\AppData\\Local\\Temp\\ipykernel_19984\\1165184245.py:6: UserWarning: \n",
      "\n",
      "`distplot` is a deprecated function and will be removed in seaborn v0.14.0.\n",
      "\n",
      "Please adapt your code to use either `displot` (a figure-level function with\n",
      "similar flexibility) or `histplot` (an axes-level function for histograms).\n",
      "\n",
      "For a guide to updating your code to use the new functions, please see\n",
      "https://gist.github.com/mwaskom/de44147ed2974457ad6372750bbe5751\n",
      "\n",
      "  sns.distplot(data[cur_feature], kde_kws={'bw' : 1})\n",
      "C:\\Users\\taill\\anaconda3\\lib\\site-packages\\seaborn\\distributions.py:2496: UserWarning: \n",
      "\n",
      "The `bw` parameter is deprecated in favor of `bw_method` and `bw_adjust`.\n",
      "Setting `bw_method=1`, but please see the docs for the new parameters\n",
      "and update your code. This will become an error in seaborn v0.14.0.\n",
      "\n",
      "  kdeplot(**{axis: a}, ax=ax, color=kde_color, **kde_kws)\n"
     ]
    },
    {
     "data": {
      "text/plain": "<Figure size 720x1152 with 12 Axes>",
      "image/png": "[encoded data removed]"
     },
     "metadata": {
      "needs_background": "light"
     },
     "output_type": "display_data"
    }
   ],
   "source": [
    "fig = plt.figure(figsize=(10,16))\n",
    "for i in range(features_nbr):\n",
    "    plt.subplot(int(features_nbr/2), 2, i+1)\n",
    "    fig.tight_layout()\n",
    "    cur_feature =features_names[i]\n",
    "    sns.distplot(data[cur_feature], kde_kws={'bw' : 1})\n",
    "    plt.title(\"Distribution de \"+cur_feature)"
   ],
   "metadata": {
    "collapsed": false,
    "ExecuteTime": {
     "end_time": "2023-12-10T04:53:00.694861200Z",
     "start_time": "2023-12-10T04:52:56.475208400Z"
    }
   }
  },
  {
   "cell_type": "markdown",
   "source": [
    "Les données semblent suivre approximativement une distribution normale dans une majorité de cas. On assumera donc dans la suite du projet, lorsque cela est nécessaire que les données suivent une loi normale."
   ],
   "metadata": {
    "collapsed": false
   }
  },
  {
   "cell_type": "markdown",
   "source": [
    "# 1 - Régression logistique #"
   ],
   "metadata": {
    "collapsed": false
   }
  },
  {
   "cell_type": "code",
   "execution_count": 5,
   "outputs": [],
   "source": [
    "# Création d'un modèle de base\n",
    "reg_log=RegressionLogistique(data, features_names, features_nbr)"
   ],
   "metadata": {
    "collapsed": false,
    "ExecuteTime": {
     "end_time": "2023-12-10T04:53:00.701367600Z",
     "start_time": "2023-12-10T04:53:00.687071400Z"
    }
   }
  },
  {
   "cell_type": "markdown",
   "source": [
    "On met à l'echelle les données afin de réduire l'impact des différentes valeurs que peuvent prendre les données sur la précision du modèle.\n",
    "La visualisation des données a mis en évidence les phénomènes suivants:\n",
    "- blablabla\n",
    "- ascqs\n",
    "- qfds\n",
    "\n",
    "On normalise les donées correspondant aux features ..... de sorte à les ramener entre 0 et 1\n",
    "On standardise les données suivant déjà une distribution gaussienne  pour empêcher le svelurs extrèmes de fausser les résultats."
   ],
   "metadata": {
    "collapsed": false
   }
  },
  {
   "cell_type": "code",
   "execution_count": 6,
   "outputs": [
    {
     "name": "stdout",
     "output_type": "stream",
     "text": [
      "          Age  Sex  ChestPainType  RestingBP  Cholesterol  FastingBS  \\\n",
      "0   -1.433140    1              1   0.410909     0.825070  -0.551341   \n",
      "1   -0.478484    0              2   1.491752    -0.171961  -0.551341   \n",
      "2   -1.751359    1              1  -0.129513     0.770188  -0.551341   \n",
      "3   -0.584556    0              0   0.302825     0.139040  -0.551341   \n",
      "4    0.051881    1              2   0.951331    -0.034755  -0.551341   \n",
      "..        ...  ...            ...        ...          ...        ...   \n",
      "913 -0.902775    1              3  -1.210356     0.596393  -0.551341   \n",
      "914  1.536902    1              0   0.627078    -0.053049   1.813758   \n",
      "915  0.370100    1              0  -0.129513    -0.620168  -0.551341   \n",
      "916  0.370100    0              1  -0.129513     0.340275  -0.551341   \n",
      "917 -1.645286    1              2   0.302825    -0.217696  -0.551341   \n",
      "\n",
      "     RestingECG     MaxHR  ExerciseAngina   Oldpeak  ST_Slope  HeartDisease  \n",
      "0             1  1.382928               0 -0.832432         2             0  \n",
      "1             1  0.754157               0  0.105664         1             1  \n",
      "2             2 -1.525138               0 -0.832432         2             0  \n",
      "3             1 -1.132156               1  0.574711         1             1  \n",
      "4             1 -0.581981               0 -0.832432         2             0  \n",
      "..          ...       ...             ...       ...       ...           ...  \n",
      "913           1 -0.188999               0  0.293283         1             1  \n",
      "914           1  0.164684               0  2.357094         1             1  \n",
      "915           1 -0.857069               1  0.293283         1             1  \n",
      "916           0  1.461525               0 -0.832432         1             1  \n",
      "917           1  1.422226               0 -0.832432         2             0  \n",
      "\n",
      "[918 rows x 12 columns]\n"
     ]
    }
   ],
   "source": [
    "# Mise à echelle des données\n",
    "scaled_data = reg_log.scale_data()\n",
    "# Récupération des ensembles d'entraînements et de validation\n",
    "X_train, X_test, y_train, y_test = reg_log.split_data(scaled_data)"
   ],
   "metadata": {
    "collapsed": false,
    "ExecuteTime": {
     "end_time": "2023-12-10T04:53:00.883113300Z",
     "start_time": "2023-12-10T04:53:00.701367600Z"
    }
   }
  },
  {
   "cell_type": "code",
   "execution_count": 7,
   "outputs": [],
   "source": [
    "# Entraînement du modèle sur les données d'entraînement\n",
    "reg_log.train(X_train, y_train)"
   ],
   "metadata": {
    "collapsed": false,
    "ExecuteTime": {
     "end_time": "2023-12-10T04:53:00.886258Z",
     "start_time": "2023-12-10T04:53:00.734433300Z"
    }
   }
  },
  {
   "cell_type": "code",
   "execution_count": 8,
   "outputs": [
    {
     "name": "stdout",
     "output_type": "stream",
     "text": [
      "Le score de validation croisée est :  0.8474326716988166 avec un déviation standard de :  0.013793757277781649\n",
      "[[272  55]\n",
      " [ 49 358]]\n",
      "accuracy du modèle : 0.8583106267029973\n",
      "Le score de validation croisée est :  0.8205705705705706 avec un déviation standard de :  0.08142790908682435\n",
      "[[69 14]\n",
      " [13 88]]\n",
      "accuracy du modèle : 0.8532608695652174\n"
     ]
    }
   ],
   "source": [
    "# Evaluation du modèle sur les données de test\n",
    "reg_log.evaluate_model(X_train,y_train)\n",
    "reg_log.evaluate_model(X_test,y_test)\n"
   ],
   "metadata": {
    "collapsed": false,
    "ExecuteTime": {
     "end_time": "2023-12-10T04:53:00.886258Z",
     "start_time": "2023-12-10T04:53:00.748938300Z"
    }
   }
  },
  {
   "cell_type": "markdown",
   "source": [
    "### Recherche d'un modèle de plus grande capacité ###\n",
    "On cheche a présent à obtenir un modèle de plus grande qualité. Pour cela, on va comparer plusieurs régressions logistiques initialisées avec des hyperparamètres dfférents afin d'obtenir la combinaison optimal des hyperparamètres.\n",
    "D'après le site de la bibliothèque sklearn, les hyperparamètres sur lesquels il est le plus important d'influer dans le cadre de la régression logistique et que nous étudierons en conséquence sont les suivants:\n",
    "- le 'solver' c'est à dire l'algorithme d'optimisation qui minimise la loss\n",
    "- 'penalty' qui correspond à la norme employée dans le terme de régularisation\n",
    "- 'C' est la constante qui régule l'impact du terme de régularisation (c'est l'inverse de la force de régularisation)\n",
    "\n",
    "Par la suite, on cherche donc a analyser les résultats des différentes combinaisons d'hyperparamètres de sorte à maximiser la capacité du système **tout en** l'empêchant d'overfitter sur les données. Pour cela, on visualiseras l'évolution de l'accuracy sur les ensembles d'entraînement et de validation en procédant à une recherche d'hyperparamètres de type 'grid-search' reposant sur la 'cross_validation'\n"
   ],
   "metadata": {
    "collapsed": false
   }
  },
  {
   "cell_type": "code",
   "execution_count": 9,
   "outputs": [
    {
     "data": {
      "text/plain": "<matplotlib.legend.Legend at 0x1bf560c1070>"
     },
     "execution_count": 9,
     "metadata": {},
     "output_type": "execute_result"
    },
    {
     "data": {
      "text/plain": "<Figure size 432x288 with 1 Axes>",
      "image/png": "[encoded data removed]"
     },
     "metadata": {
      "needs_background": "light"
     },
     "output_type": "display_data"
    }
   ],
   "source": [
    "from sklearn.model_selection import validation_curve\n",
    "\n",
    "h_parameters_to_tune ={\n",
    "    'solver' : ['lbfgs', 'liblinear','newton-cg', 'newton-cholesky', 'sag', 'saga'],\n",
    "    'penalty' : ['None','l2', 'l1', 'elasticnet'],\n",
    "    'C' : [1.0, 10.0, 100.0, 1000.0, 10000.0]\n",
    "}\n",
    "model = LogisticRegression(random_state=16)\n",
    "k = np.linspace(1,20,20)\n",
    "train_score, val_score = validation_curve(model, X_train, y_train, param_name='solver', param_range=['lbfgs', 'liblinear','newton-cg', 'newton-cholesky', 'sag', 'saga'], cv=5)\n",
    "\n",
    "plt.plot(['lbfgs', 'liblinear','newton-cg', 'newton-cholesky', 'sag', 'saga'], val_score.mean(axis=1),label='validation score')\n",
    "plt.plot(['lbfgs', 'liblinear','newton-cg', 'newton-cholesky', 'sag', 'saga'], train_score.mean(axis=1),label='training score')\n",
    "plt.legend()"
   ],
   "metadata": {
    "collapsed": false,
    "ExecuteTime": {
     "end_time": "2023-12-10T04:53:01.244833700Z",
     "start_time": "2023-12-10T04:53:00.845602Z"
    }
   }
  },
  {
   "cell_type": "code",
   "execution_count": 10,
   "outputs": [
    {
     "name": "stdout",
     "output_type": "stream",
     "text": [
      "0.8569482288828338\n",
      "0.8487932159165036  pour les hyperparamètres suivants :  {'C': 1.0, 'penalty': 'l1', 'solver': 'liblinear'}\n"
     ]
    },
    {
     "name": "stderr",
     "output_type": "stream",
     "text": [
      "C:\\Users\\taill\\anaconda3\\lib\\site-packages\\sklearn\\model_selection\\_validation.py:372: FitFailedWarning: \n",
      "425 fits failed out of a total of 600.\n",
      "The score on these train-test partitions for these parameters will be set to nan.\n",
      "If these failures are not expected, you can try to debug them by setting error_score='raise'.\n",
      "\n",
      "Below are more details about the failures:\n",
      "--------------------------------------------------------------------------------\n",
      "125 fits failed with the following error:\n",
      "Traceback (most recent call last):\n",
      "  File \"C:\\Users\\taill\\anaconda3\\lib\\site-packages\\sklearn\\model_selection\\_validation.py\", line 680, in _fit_and_score\n",
      "    estimator.fit(X_train, y_train, **fit_params)\n",
      "  File \"C:\\Users\\taill\\anaconda3\\lib\\site-packages\\sklearn\\linear_model\\_logistic.py\", line 1461, in fit\n",
      "    solver = _check_solver(self.solver, self.penalty, self.dual)\n",
      "  File \"C:\\Users\\taill\\anaconda3\\lib\\site-packages\\sklearn\\linear_model\\_logistic.py\", line 441, in _check_solver\n",
      "    raise ValueError(\n",
      "ValueError: Logistic Regression supports only penalties in ['l1', 'l2', 'elasticnet', 'none'], got None.\n",
      "\n",
      "--------------------------------------------------------------------------------\n",
      "100 fits failed with the following error:\n",
      "Traceback (most recent call last):\n",
      "  File \"C:\\Users\\taill\\anaconda3\\lib\\site-packages\\sklearn\\model_selection\\_validation.py\", line 680, in _fit_and_score\n",
      "    estimator.fit(X_train, y_train, **fit_params)\n",
      "  File \"C:\\Users\\taill\\anaconda3\\lib\\site-packages\\sklearn\\linear_model\\_logistic.py\", line 1461, in fit\n",
      "    solver = _check_solver(self.solver, self.penalty, self.dual)\n",
      "  File \"C:\\Users\\taill\\anaconda3\\lib\\site-packages\\sklearn\\linear_model\\_logistic.py\", line 434, in _check_solver\n",
      "    raise ValueError(\n",
      "ValueError: Logistic Regression supports only solvers in ['liblinear', 'newton-cg', 'lbfgs', 'sag', 'saga'], got newton-cholesky.\n",
      "\n",
      "--------------------------------------------------------------------------------\n",
      "25 fits failed with the following error:\n",
      "Traceback (most recent call last):\n",
      "  File \"C:\\Users\\taill\\anaconda3\\lib\\site-packages\\sklearn\\model_selection\\_validation.py\", line 680, in _fit_and_score\n",
      "    estimator.fit(X_train, y_train, **fit_params)\n",
      "  File \"C:\\Users\\taill\\anaconda3\\lib\\site-packages\\sklearn\\linear_model\\_logistic.py\", line 1461, in fit\n",
      "    solver = _check_solver(self.solver, self.penalty, self.dual)\n",
      "  File \"C:\\Users\\taill\\anaconda3\\lib\\site-packages\\sklearn\\linear_model\\_logistic.py\", line 447, in _check_solver\n",
      "    raise ValueError(\n",
      "ValueError: Solver lbfgs supports only 'l2' or 'none' penalties, got l1 penalty.\n",
      "\n",
      "--------------------------------------------------------------------------------\n",
      "25 fits failed with the following error:\n",
      "Traceback (most recent call last):\n",
      "  File \"C:\\Users\\taill\\anaconda3\\lib\\site-packages\\sklearn\\model_selection\\_validation.py\", line 680, in _fit_and_score\n",
      "    estimator.fit(X_train, y_train, **fit_params)\n",
      "  File \"C:\\Users\\taill\\anaconda3\\lib\\site-packages\\sklearn\\linear_model\\_logistic.py\", line 1461, in fit\n",
      "    solver = _check_solver(self.solver, self.penalty, self.dual)\n",
      "  File \"C:\\Users\\taill\\anaconda3\\lib\\site-packages\\sklearn\\linear_model\\_logistic.py\", line 447, in _check_solver\n",
      "    raise ValueError(\n",
      "ValueError: Solver newton-cg supports only 'l2' or 'none' penalties, got l1 penalty.\n",
      "\n",
      "--------------------------------------------------------------------------------\n",
      "25 fits failed with the following error:\n",
      "Traceback (most recent call last):\n",
      "  File \"C:\\Users\\taill\\anaconda3\\lib\\site-packages\\sklearn\\model_selection\\_validation.py\", line 680, in _fit_and_score\n",
      "    estimator.fit(X_train, y_train, **fit_params)\n",
      "  File \"C:\\Users\\taill\\anaconda3\\lib\\site-packages\\sklearn\\linear_model\\_logistic.py\", line 1461, in fit\n",
      "    solver = _check_solver(self.solver, self.penalty, self.dual)\n",
      "  File \"C:\\Users\\taill\\anaconda3\\lib\\site-packages\\sklearn\\linear_model\\_logistic.py\", line 447, in _check_solver\n",
      "    raise ValueError(\n",
      "ValueError: Solver sag supports only 'l2' or 'none' penalties, got l1 penalty.\n",
      "\n",
      "--------------------------------------------------------------------------------\n",
      "25 fits failed with the following error:\n",
      "Traceback (most recent call last):\n",
      "  File \"C:\\Users\\taill\\anaconda3\\lib\\site-packages\\sklearn\\model_selection\\_validation.py\", line 680, in _fit_and_score\n",
      "    estimator.fit(X_train, y_train, **fit_params)\n",
      "  File \"C:\\Users\\taill\\anaconda3\\lib\\site-packages\\sklearn\\linear_model\\_logistic.py\", line 1461, in fit\n",
      "    solver = _check_solver(self.solver, self.penalty, self.dual)\n",
      "  File \"C:\\Users\\taill\\anaconda3\\lib\\site-packages\\sklearn\\linear_model\\_logistic.py\", line 447, in _check_solver\n",
      "    raise ValueError(\n",
      "ValueError: Solver lbfgs supports only 'l2' or 'none' penalties, got elasticnet penalty.\n",
      "\n",
      "--------------------------------------------------------------------------------\n",
      "25 fits failed with the following error:\n",
      "Traceback (most recent call last):\n",
      "  File \"C:\\Users\\taill\\anaconda3\\lib\\site-packages\\sklearn\\model_selection\\_validation.py\", line 680, in _fit_and_score\n",
      "    estimator.fit(X_train, y_train, **fit_params)\n",
      "  File \"C:\\Users\\taill\\anaconda3\\lib\\site-packages\\sklearn\\linear_model\\_logistic.py\", line 1461, in fit\n",
      "    solver = _check_solver(self.solver, self.penalty, self.dual)\n",
      "  File \"C:\\Users\\taill\\anaconda3\\lib\\site-packages\\sklearn\\linear_model\\_logistic.py\", line 457, in _check_solver\n",
      "    raise ValueError(\n",
      "ValueError: Only 'saga' solver supports elasticnet penalty, got solver=liblinear.\n",
      "\n",
      "--------------------------------------------------------------------------------\n",
      "25 fits failed with the following error:\n",
      "Traceback (most recent call last):\n",
      "  File \"C:\\Users\\taill\\anaconda3\\lib\\site-packages\\sklearn\\model_selection\\_validation.py\", line 680, in _fit_and_score\n",
      "    estimator.fit(X_train, y_train, **fit_params)\n",
      "  File \"C:\\Users\\taill\\anaconda3\\lib\\site-packages\\sklearn\\linear_model\\_logistic.py\", line 1461, in fit\n",
      "    solver = _check_solver(self.solver, self.penalty, self.dual)\n",
      "  File \"C:\\Users\\taill\\anaconda3\\lib\\site-packages\\sklearn\\linear_model\\_logistic.py\", line 447, in _check_solver\n",
      "    raise ValueError(\n",
      "ValueError: Solver newton-cg supports only 'l2' or 'none' penalties, got elasticnet penalty.\n",
      "\n",
      "--------------------------------------------------------------------------------\n",
      "25 fits failed with the following error:\n",
      "Traceback (most recent call last):\n",
      "  File \"C:\\Users\\taill\\anaconda3\\lib\\site-packages\\sklearn\\model_selection\\_validation.py\", line 680, in _fit_and_score\n",
      "    estimator.fit(X_train, y_train, **fit_params)\n",
      "  File \"C:\\Users\\taill\\anaconda3\\lib\\site-packages\\sklearn\\linear_model\\_logistic.py\", line 1461, in fit\n",
      "    solver = _check_solver(self.solver, self.penalty, self.dual)\n",
      "  File \"C:\\Users\\taill\\anaconda3\\lib\\site-packages\\sklearn\\linear_model\\_logistic.py\", line 447, in _check_solver\n",
      "    raise ValueError(\n",
      "ValueError: Solver sag supports only 'l2' or 'none' penalties, got elasticnet penalty.\n",
      "\n",
      "--------------------------------------------------------------------------------\n",
      "25 fits failed with the following error:\n",
      "Traceback (most recent call last):\n",
      "  File \"C:\\Users\\taill\\anaconda3\\lib\\site-packages\\sklearn\\model_selection\\_validation.py\", line 680, in _fit_and_score\n",
      "    estimator.fit(X_train, y_train, **fit_params)\n",
      "  File \"C:\\Users\\taill\\anaconda3\\lib\\site-packages\\sklearn\\linear_model\\_logistic.py\", line 1471, in fit\n",
      "    raise ValueError(\n",
      "ValueError: l1_ratio must be between 0 and 1; got (l1_ratio=None)\n",
      "\n",
      "  warnings.warn(some_fits_failed_message, FitFailedWarning)\n",
      "C:\\Users\\taill\\anaconda3\\lib\\site-packages\\sklearn\\model_selection\\_search.py:969: UserWarning: One or more of the test scores are non-finite: [       nan        nan        nan        nan        nan        nan\n",
      " 0.84743267 0.84469295 0.84743267        nan 0.84743267 0.84743267\n",
      "        nan 0.84879322        nan        nan        nan 0.84879322\n",
      "        nan        nan        nan        nan        nan        nan\n",
      "        nan        nan        nan        nan        nan        nan\n",
      " 0.84608145 0.84608145 0.84608145        nan 0.84608145 0.84608145\n",
      "        nan 0.84744199        nan        nan        nan 0.84744199\n",
      "        nan        nan        nan        nan        nan        nan\n",
      "        nan        nan        nan        nan        nan        nan\n",
      " 0.84608145 0.84744199 0.84608145        nan 0.84608145 0.84744199\n",
      "        nan 0.84744199        nan        nan        nan 0.84744199\n",
      "        nan        nan        nan        nan        nan        nan\n",
      "        nan        nan        nan        nan        nan        nan\n",
      " 0.84744199 0.84744199 0.84744199        nan 0.84744199 0.84744199\n",
      "        nan 0.84744199        nan        nan        nan 0.84744199\n",
      "        nan        nan        nan        nan        nan        nan\n",
      "        nan        nan        nan        nan        nan        nan\n",
      " 0.84744199 0.84744199 0.84744199        nan 0.84744199 0.84744199\n",
      "        nan 0.84744199        nan        nan        nan 0.84744199\n",
      "        nan        nan        nan        nan        nan        nan]\n",
      "  warnings.warn(\n"
     ]
    }
   ],
   "source": [
    "best_estimator = reg_log.recherche_hyper_parametres(X_train, y_train, h_parameters_to_tune)"
   ],
   "metadata": {
    "collapsed": false,
    "ExecuteTime": {
     "end_time": "2023-12-10T04:53:02.822751400Z",
     "start_time": "2023-12-10T04:53:01.241843300Z"
    }
   }
  },
  {
   "cell_type": "code",
   "execution_count": 11,
   "outputs": [
    {
     "name": "stdout",
     "output_type": "stream",
     "text": [
      "LogisticRegression(penalty='l1', solver='liblinear')\n",
      "Le score de validation croisée est :  0.8205705705705706 avec un déviation standard de :  0.08142790908682435\n",
      "[[69 14]\n",
      " [14 87]]\n",
      "accuracy du modèle : 0.8478260869565217\n"
     ]
    }
   ],
   "source": [
    "best_reg_log = RegressionLogistique(data, features_names, features_nbr, best_estimator)\n",
    "print(best_reg_log.logreg)\n",
    "best_reg_log.train(X_train,y_train)\n",
    "best_reg_log.evaluate_model(X_test, y_test)"
   ],
   "metadata": {
    "collapsed": false,
    "ExecuteTime": {
     "end_time": "2023-12-10T04:53:02.884876200Z",
     "start_time": "2023-12-10T04:53:02.824927Z"
    }
   }
  },
  {
   "cell_type": "code",
   "execution_count": 11,
   "outputs": [],
   "source": [],
   "metadata": {
    "collapsed": false,
    "ExecuteTime": {
     "end_time": "2023-12-10T04:53:02.884876200Z",
     "start_time": "2023-12-10T04:53:02.869246600Z"
    }
   }
  },
  {
   "cell_type": "markdown",
   "source": [
    "# 2 - K plus proches voisins"
   ],
   "metadata": {
    "collapsed": false
   }
  },
  {
   "cell_type": "markdown",
   "source": [
    "Dans cette partie, on classifie les données à l'aide du classifieur par K plus proches voisins.\n",
    "Nous évaluerons la valeur de l'hyperparamètre K à l'aide d'une recherche de type 'grid-search' utilisant une 'stratified-cross-validation'"
   ],
   "metadata": {
    "collapsed": false
   }
  },
  {
   "cell_type": "markdown",
   "source": [
    "On commence par initialiser un classifieur dit 'naïf' avec l'hyperparamètre K=5 afin d'avoir une base sur laquelle travailler."
   ],
   "metadata": {
    "collapsed": false
   }
  },
  {
   "cell_type": "code",
   "execution_count": 12,
   "outputs": [
    {
     "name": "stdout",
     "output_type": "stream",
     "text": [
      "accuracy du modèle : 0.8206521739130435\n"
     ]
    },
    {
     "data": {
      "text/plain": "<Figure size 432x288 with 2 Axes>",
      "image/png": "[encoded data removed]"
     },
     "metadata": {
      "needs_background": "light"
     },
     "output_type": "display_data"
    }
   ],
   "source": [
    "from k_plus_proches_voisins import K_PP_voisins\n",
    "\n",
    "# Instantiation du modèle avec K =5\n",
    "knn_model_naif =  K_PP_voisins(data, features_names, features_nbr)\n",
    "# Entraînement du modèle sur les données X_train et y_train\n",
    "knn_model_naif.train(X_train, y_train)\n",
    "# Evaluation du modèle sur les données de test\n",
    "knn_model_naif.evaluate_model(X_test, y_test)"
   ],
   "metadata": {
    "collapsed": false,
    "ExecuteTime": {
     "end_time": "2023-12-10T04:53:03.091575900Z",
     "start_time": "2023-12-10T04:53:02.884876200Z"
    }
   }
  },
  {
   "cell_type": "markdown",
   "source": [
    "Le modèle arrive à prédire correctement l'existence ou l'absence de maladie cardiaque dans environ 80% des cas sur les données de tests."
   ],
   "metadata": {
    "collapsed": false
   }
  },
  {
   "cell_type": "markdown",
   "source": [
    "On quantifie la capacité du modèle plus précisemment à l'aide de 'stratified-cross-validation'. Les données sur lesquelles est entrainé le modèle sont séparées en un ensemble d'entraînement et de validation permettant d'évaluer la capacité à généraliser du modèle. On évalue le score de chaque fold puis on en prend la moyenne afin d'obtenir la meilleure évaluation de l'accuracy possible"
   ],
   "metadata": {
    "collapsed": false
   }
  },
  {
   "cell_type": "code",
   "execution_count": 13,
   "outputs": [
    {
     "name": "stdout",
     "output_type": "stream",
     "text": [
      "Le score de cross-validation du modèle est:  0.8469394051585831\n"
     ]
    }
   ],
   "source": [
    "knn_model_naif.K_fold(X_train,y_train)"
   ],
   "metadata": {
    "collapsed": false,
    "ExecuteTime": {
     "end_time": "2023-12-10T04:53:03.278779700Z",
     "start_time": "2023-12-10T04:53:03.092843100Z"
    }
   }
  },
  {
   "cell_type": "markdown",
   "source": [
    "On constate finalement que "
   ],
   "metadata": {
    "collapsed": false
   }
  },
  {
   "cell_type": "markdown",
   "source": [
    "#### Amélioration du modèle : recherche des hyperparamètres"
   ],
   "metadata": {
    "collapsed": false
   }
  },
  {
   "cell_type": "markdown",
   "source": [
    "L'analyse de base du classifieur étant établie, on procède maintenant à une recherche d'hyperparamètres. D'après la documentation de [sklearn][1] les hyperparamètres du modèles sont les suivants :\n",
    "- n_neighbors : le nombre de voisins nécesasires pour la classification du point courant\n",
    "- weights : La métrique utilisée pour prédire l'appartenance d'un point à une classe ou à une autre\n",
    "- algorithm : algorithme utilisé pour le calcul\n",
    "- leaf_size : nombre de points à partir duquel l'algorithme choisi les voisins en force brute\n",
    "- p : puissance dans la distance de Minkowski indiquant la nature de la mesure\n",
    "- metric : la métrique utilisée\n",
    "\n",
    "On conserve la métrique de base (Minkowski) car le choix de la valeur de p permet de choisir la métrique indirectement.\n",
    "Le jeu de données étant inférieur à 1000 points, on peut utiliser l'approche par force brute directement car le temps de calcul devrait rester raisonnable. Ainsi, on fixe leaf_size à 1.\n",
    "L'algorithme utilisé pour le calcul des plus proches voisins est laissé à 'auto'.\n",
    "On fixe p à 1 pour avoir la distance de mahalanobis qui conserve prends en compte la forme des données\n",
    "\n",
    "Il nous reste donc à calculer les valeurs d'hyperparmètres suivants:\n",
    "- n_neighbors\n",
    "- weights\n",
    "- p\n",
    "\n",
    "On utilise une recherche d'hyperparamètres de type grid-search. Pour cela, on instancie un dictionnaire contenant les couples (noms du paramètres : valeurs prises par ce paramètre)\n",
    "\n",
    "[1]: https://scikit-learn.org/stable/modules/generated/sklearn.neighbors.KNeighborsClassifier.html#sklearn.neighbors.KNeighborsClassifier"
   ],
   "metadata": {
    "collapsed": false
   }
  },
  {
   "cell_type": "code",
   "execution_count": 14,
   "outputs": [],
   "source": [
    "n_neighbors_values = np.linspace(1,20,20).astype(int)\n",
    "weights_values = ['uniform', 'distance']\n",
    "p_values = np.linspace(1,10,10).astype(int)\n",
    "h_parameters_to_tune ={\n",
    "    'n_neighbors' : n_neighbors_values,\n",
    "    'weights' : weights_values,\n",
    "    'p' : p_values\n",
    "}\n",
    "other_parameters=['leaf-size=1','metric=minkowski']"
   ],
   "metadata": {
    "collapsed": false,
    "ExecuteTime": {
     "end_time": "2023-12-10T04:53:03.326013700Z",
     "start_time": "2023-12-10T04:53:03.278779700Z"
    }
   }
  },
  {
   "cell_type": "code",
   "execution_count": 15,
   "outputs": [
    {
     "name": "stdout",
     "output_type": "stream",
     "text": [
      "0.8706178361755661  pour les hyperparamètres suivants :  {'n_neighbors': 17, 'p': 1, 'weights': 'uniform'}\n"
     ]
    }
   ],
   "source": [
    "knn_post_grid_search_estimator = knn_model_naif.hyper_parameters_search(X_train, y_train, h_parameters_to_tune, other_parameters)"
   ],
   "metadata": {
    "collapsed": false,
    "ExecuteTime": {
     "end_time": "2023-12-10T04:53:50.111159200Z",
     "start_time": "2023-12-10T04:53:03.294748800Z"
    }
   }
  },
  {
   "cell_type": "markdown",
   "source": [
    "On constate une amélioration de l'accuracy du modèle d'environ 4%"
   ],
   "metadata": {
    "collapsed": false
   }
  },
  {
   "cell_type": "code",
   "execution_count": 16,
   "outputs": [],
   "source": [
    "knn_2=K_PP_voisins(data, features_names, features_nbr,knn_post_grid_search_estimator)"
   ],
   "metadata": {
    "collapsed": false,
    "ExecuteTime": {
     "end_time": "2023-12-10T04:53:50.111159200Z",
     "start_time": "2023-12-10T04:53:32.275078200Z"
    }
   }
  },
  {
   "cell_type": "code",
   "execution_count": 17,
   "outputs": [
    {
     "name": "stdout",
     "output_type": "stream",
     "text": [
      "accuracy du modèle : 0.8641304347826086\n"
     ]
    },
    {
     "data": {
      "text/plain": "<Figure size 432x288 with 2 Axes>",
      "image/png": "[encoded data removed]"
     },
     "metadata": {
      "needs_background": "light"
     },
     "output_type": "display_data"
    }
   ],
   "source": [
    "knn_2.evaluate_model(X_test, y_test)"
   ],
   "metadata": {
    "collapsed": false,
    "ExecuteTime": {
     "end_time": "2023-12-10T04:53:50.112362800Z",
     "start_time": "2023-12-10T04:53:32.289838900Z"
    }
   }
  },
  {
   "cell_type": "markdown",
   "source": [
    "Le modèle s'est amélioré d'environ 2% grâce à un meilleur choix des hyperparamètres"
   ],
   "metadata": {
    "collapsed": false
   }
  },
  {
   "cell_type": "markdown",
   "source": [
    "#### Amélioration du modèle : nombre de données"
   ],
   "metadata": {
    "collapsed": false
   }
  },
  {
   "cell_type": "markdown",
   "source": [
    "A présent, on étudie le nombre de données nécessaire dans l'ensemble d'entraînement permettant de favoriser l'apprentissage du modèle. Pour cela, on va évaluer la performance du modèle sur plusieurs ensembles d'entraînement dont les tailles sont différentes et afficher les résultats obtenus sous la forme de graphiques.\n",
    "Afin de valider la capacité à généraliser du modèle, nous visualiserons également le score obtenu sur l'ensemble des données de validation."
   ],
   "metadata": {
    "collapsed": false
   }
  },
  {
   "cell_type": "code",
   "execution_count": 18,
   "outputs": [
    {
     "data": {
      "text/plain": "<Figure size 432x288 with 1 Axes>",
      "image/png": "[encoded data removed]"
     },
     "metadata": {
      "needs_background": "light"
     },
     "output_type": "display_data"
    }
   ],
   "source": [
    "train_size = np.linspace(0.2,1,8)\n",
    "knn_2.data_needed_for_max_score(X_train, y_train, train_size)"
   ],
   "metadata": {
    "collapsed": false,
    "ExecuteTime": {
     "end_time": "2023-12-10T04:53:50.112362800Z",
     "start_time": "2023-12-10T04:53:32.479744200Z"
    }
   }
  },
  {
   "cell_type": "markdown",
   "source": [
    "L'allure de la courbe orange représentant le score de validation laisse entendre que davantage de données permettrait d'améliorer les prédictions du modèle.\n",
    "On constate cependant que le modèle amélioré suite à la recherche des hyperparamètres sur-apprend les données d'entraînement.\n",
    "il s'agit en effet, d'un des risques des modèles basés sur les K plus proches voisins."
   ],
   "metadata": {
    "collapsed": false
   }
  },
  {
   "cell_type": "code",
   "execution_count": 19,
   "outputs": [
    {
     "name": "stdout",
     "output_type": "stream",
     "text": [
      "accuracy du modèle : 0.8801089918256131\n"
     ]
    },
    {
     "data": {
      "text/plain": "<Figure size 432x288 with 2 Axes>",
      "image/png": "[encoded data removed]"
     },
     "metadata": {
      "needs_background": "light"
     },
     "output_type": "display_data"
    }
   ],
   "source": [
    "knn_2.evaluate_model(X_train, y_train)"
   ],
   "metadata": {
    "collapsed": false,
    "ExecuteTime": {
     "end_time": "2023-12-10T04:53:50.112362800Z",
     "start_time": "2023-12-10T04:53:33.699166100Z"
    }
   }
  },
  {
   "cell_type": "markdown",
   "source": [
    "L'évaluation du modèle (sur les données d'entraînement) ci-contre montre bien que le modèle sur-apprend.\n",
    "Afin de prévenir cela,  nous étudierons et appliquerons diverses transformations aux données."
   ],
   "metadata": {
    "collapsed": false
   }
  },
  {
   "cell_type": "markdown",
   "source": [
    "#### Amélioration du modèle : Mise à l'échelle des données"
   ],
   "metadata": {
    "collapsed": false
   }
  },
  {
   "cell_type": "markdown",
   "source": [
    "On normalise les données quantitatives afin de faciliter l'apprentissage du modèle."
   ],
   "metadata": {
    "collapsed": false
   }
  },
  {
   "cell_type": "code",
   "execution_count": 34,
   "outputs": [],
   "source": [
    "scaled_data_knn = knn_2.scale_data(numerical_features,[])"
   ],
   "metadata": {
    "collapsed": false,
    "ExecuteTime": {
     "end_time": "2023-12-10T05:05:01.736961400Z",
     "start_time": "2023-12-10T05:05:01.694693700Z"
    }
   }
  },
  {
   "cell_type": "markdown",
   "source": [
    "On créer maintenant un nouveau modèle à l'aide de ces données et on l'entraîne."
   ],
   "metadata": {
    "collapsed": false
   }
  },
  {
   "cell_type": "code",
   "execution_count": 35,
   "outputs": [
    {
     "name": "stdout",
     "output_type": "stream",
     "text": [
      "accuracy du modèle : 0.8641304347826086\n"
     ]
    },
    {
     "data": {
      "text/plain": "<Figure size 432x288 with 2 Axes>",
      "image/png": "[encoded data removed]"
     },
     "metadata": {
      "needs_background": "light"
     },
     "output_type": "display_data"
    }
   ],
   "source": [
    "knn_3 = K_PP_voisins(scaled_data_knn,features_names,features_nbr,knn_post_grid_search_estimator)\n",
    "knn_3.train(X_train,y_train)\n",
    "knn_3.evaluate_model(X_test,y_test)"
   ],
   "metadata": {
    "collapsed": false,
    "ExecuteTime": {
     "end_time": "2023-12-10T05:05:05.506244700Z",
     "start_time": "2023-12-10T05:05:05.314011300Z"
    }
   }
  },
  {
   "cell_type": "code",
   "execution_count": 21,
   "outputs": [
    {
     "name": "stdout",
     "output_type": "stream",
     "text": [
      "     Age  Sex  ChestPainType  RestingBP  Cholesterol  FastingBS  RestingECG  \\\n",
      "0     40    1              1        140          289          0           1   \n",
      "1     49    0              2        160          180          0           1   \n",
      "2     37    1              1        130          283          0           2   \n",
      "3     48    0              0        138          214          0           1   \n",
      "4     54    1              2        150          195          0           1   \n",
      "..   ...  ...            ...        ...          ...        ...         ...   \n",
      "913   45    1              3        110          264          0           1   \n",
      "914   68    1              0        144          193          1           1   \n",
      "915   57    1              0        130          131          0           1   \n",
      "916   57    0              1        130          236          0           0   \n",
      "917   38    1              2        138          175          0           1   \n",
      "\n",
      "     MaxHR  ExerciseAngina  Oldpeak  ST_Slope  HeartDisease  \n",
      "0      172               0      0.0         2             0  \n",
      "1      156               0      1.0         1             1  \n",
      "2       98               0      0.0         2             0  \n",
      "3      108               1      1.5         1             1  \n",
      "4      122               0      0.0         2             0  \n",
      "..     ...             ...      ...       ...           ...  \n",
      "913    132               0      1.2         1             1  \n",
      "914    141               0      3.4         1             1  \n",
      "915    115               1      1.2         1             1  \n",
      "916    174               0      0.0         1             1  \n",
      "917    173               0      0.0         2             0  \n",
      "\n",
      "[918 rows x 12 columns]\n",
      "          Age  Sex  ChestPainType  RestingBP  Cholesterol  FastingBS  \\\n",
      "0   -1.433140    1              1   0.410909     0.825070  -0.551341   \n",
      "1   -0.478484    0              2   1.491752    -0.171961  -0.551341   \n",
      "2   -1.751359    1              1  -0.129513     0.770188  -0.551341   \n",
      "3   -0.584556    0              0   0.302825     0.139040  -0.551341   \n",
      "4    0.051881    1              2   0.951331    -0.034755  -0.551341   \n",
      "..        ...  ...            ...        ...          ...        ...   \n",
      "913 -0.902775    1              3  -1.210356     0.596393  -0.551341   \n",
      "914  1.536902    1              0   0.627078    -0.053049   1.813758   \n",
      "915  0.370100    1              0  -0.129513    -0.620168  -0.551341   \n",
      "916  0.370100    0              1  -0.129513     0.340275  -0.551341   \n",
      "917 -1.645286    1              2   0.302825    -0.217696  -0.551341   \n",
      "\n",
      "     RestingECG     MaxHR  ExerciseAngina   Oldpeak  ST_Slope  HeartDisease  \n",
      "0             1  1.382928               0 -0.832432         2             0  \n",
      "1             1  0.754157               0  0.105664         1             1  \n",
      "2             2 -1.525138               0 -0.832432         2             0  \n",
      "3             1 -1.132156               1  0.574711         1             1  \n",
      "4             1 -0.581981               0 -0.832432         2             0  \n",
      "..          ...       ...             ...       ...       ...           ...  \n",
      "913           1 -0.188999               0  0.293283         1             1  \n",
      "914           1  0.164684               0  2.357094         1             1  \n",
      "915           1 -0.857069               1  0.293283         1             1  \n",
      "916           0  1.461525               0 -0.832432         1             1  \n",
      "917           1  1.422226               0 -0.832432         2             0  \n",
      "\n",
      "[918 rows x 12 columns]\n"
     ]
    }
   ],
   "source": [
    "print(data)\n",
    "print(scaled_data)"
   ],
   "metadata": {
    "collapsed": false,
    "ExecuteTime": {
     "end_time": "2023-12-10T04:53:50.112362800Z",
     "start_time": "2023-12-10T04:53:33.931416900Z"
    }
   }
  },
  {
   "cell_type": "code",
   "execution_count": 21,
   "outputs": [],
   "source": [],
   "metadata": {
    "collapsed": false,
    "ExecuteTime": {
     "end_time": "2023-12-10T04:53:50.112362800Z",
     "start_time": "2023-12-10T04:53:33.947842200Z"
    }
   }
  },
  {
   "cell_type": "code",
   "execution_count": 21,
   "outputs": [],
   "source": [],
   "metadata": {
    "collapsed": false,
    "ExecuteTime": {
     "end_time": "2023-12-10T04:53:50.112362800Z",
     "start_time": "2023-12-10T04:53:33.961856500Z"
    }
   }
  },
  {
   "cell_type": "code",
   "execution_count": 22,
   "outputs": [
    {
     "name": "stdout",
     "output_type": "stream",
     "text": [
      "Le score de cross-validation du modèle est:  0.8719301493274095\n",
      "Le score de cross-validation du modèle est:  0.8469394051585831\n"
     ]
    }
   ],
   "source": [
    "knn_2.K_fold(X_train,y_train)\n",
    "knn_model_naif.K_fold(X_train,y_train)"
   ],
   "metadata": {
    "collapsed": false,
    "ExecuteTime": {
     "end_time": "2023-12-10T04:53:50.112362800Z",
     "start_time": "2023-12-10T04:53:33.977496Z"
    }
   }
  },
  {
   "cell_type": "code",
   "execution_count": 23,
   "outputs": [
    {
     "name": "stdout",
     "output_type": "stream",
     "text": [
      "accuracy du modèle : 0.8801089918256131\n",
      "accuracy du modèle : 0.888283378746594\n"
     ]
    },
    {
     "data": {
      "text/plain": "<Figure size 432x288 with 4 Axes>",
      "image/png": "[encoded data removed]"
     },
     "metadata": {
      "needs_background": "light"
     },
     "output_type": "display_data"
    }
   ],
   "source": [
    "knn_2.evaluate_model(X_train,y_train)\n",
    "knn_model_naif.evaluate_model(X_train,y_train)"
   ],
   "metadata": {
    "collapsed": false,
    "ExecuteTime": {
     "end_time": "2023-12-10T04:53:50.112362800Z",
     "start_time": "2023-12-10T04:53:34.420369Z"
    }
   }
  },
  {
   "cell_type": "markdown",
   "source": [
    "#### Conclusion sur le modèle des K plus proches voisins"
   ],
   "metadata": {
    "collapsed": false
   }
  },
  {
   "cell_type": "code",
   "execution_count": 24,
   "outputs": [],
   "source": [
    "from sklearn.ensemble import BaggingClassifier\n",
    "from sklearn.neighbors import KNeighborsClassifier\n",
    "bagging = BaggingClassifier(knn_post_grid_search_estimator,max_samples=0.5, max_features=0.5)"
   ],
   "metadata": {
    "collapsed": false,
    "ExecuteTime": {
     "end_time": "2023-12-10T04:53:50.113878Z",
     "start_time": "2023-12-10T04:53:34.846170900Z"
    }
   }
  },
  {
   "cell_type": "code",
   "execution_count": 25,
   "outputs": [
    {
     "data": {
      "text/plain": "{'base_estimator__algorithm': 'auto',\n 'base_estimator__leaf_size': 1,\n 'base_estimator__metric': 'minkowski',\n 'base_estimator__metric_params': None,\n 'base_estimator__n_jobs': None,\n 'base_estimator__n_neighbors': 17,\n 'base_estimator__p': 1,\n 'base_estimator__weights': 'uniform',\n 'base_estimator': KNeighborsClassifier(leaf_size=1, n_neighbors=17, p=1),\n 'bootstrap': True,\n 'bootstrap_features': False,\n 'max_features': 0.5,\n 'max_samples': 0.5,\n 'n_estimators': 10,\n 'n_jobs': None,\n 'oob_score': False,\n 'random_state': None,\n 'verbose': 0,\n 'warm_start': False}"
     },
     "execution_count": 25,
     "metadata": {},
     "output_type": "execute_result"
    }
   ],
   "source": [
    "bagging.get_params()"
   ],
   "metadata": {
    "collapsed": false,
    "ExecuteTime": {
     "end_time": "2023-12-10T04:53:50.113878Z",
     "start_time": "2023-12-10T04:53:34.909697400Z"
    }
   }
  },
  {
   "cell_type": "code",
   "execution_count": 26,
   "outputs": [
    {
     "data": {
      "text/plain": "0.8206521739130435"
     },
     "execution_count": 26,
     "metadata": {},
     "output_type": "execute_result"
    }
   ],
   "source": [
    "bagging.fit(X_train,y_train)\n",
    "bagging.score(X_test, y_test)"
   ],
   "metadata": {
    "collapsed": false,
    "ExecuteTime": {
     "end_time": "2023-12-10T04:53:50.113878Z",
     "start_time": "2023-12-10T04:53:34.927553600Z"
    }
   }
  },
  {
   "cell_type": "code",
   "execution_count": 29,
   "outputs": [
    {
     "name": "stdout",
     "output_type": "stream",
     "text": [
      "accuracy du modèle : 0.8641304347826086\n"
     ]
    },
    {
     "data": {
      "text/plain": "<Figure size 432x288 with 2 Axes>",
      "image/png": "[encoded data removed]"
     },
     "metadata": {
      "needs_background": "light"
     },
     "output_type": "display_data"
    }
   ],
   "source": [
    "knn_2 = K_PP_voisins(scaled_data, features_names, features_nbr, knn_post_grid_search_estimator)\n",
    "knn_2.evaluate_model(X_test, y_test)\n"
   ],
   "metadata": {
    "collapsed": false,
    "ExecuteTime": {
     "end_time": "2023-12-10T04:56:32.954300100Z",
     "start_time": "2023-12-10T04:56:32.757638400Z"
    }
   }
  },
  {
   "cell_type": "code",
   "execution_count": 30,
   "outputs": [
    {
     "data": {
      "text/plain": "<Figure size 432x288 with 1 Axes>",
      "image/png": "[encoded data removed]"
     },
     "metadata": {
      "needs_background": "light"
     },
     "output_type": "display_data"
    }
   ],
   "source": [
    "train_size = np.linspace(0.2, 1, 8)\n",
    "knn_2.data_needed_for_max_score(X_train, y_train, train_size)"
   ],
   "metadata": {
    "collapsed": false,
    "ExecuteTime": {
     "end_time": "2023-12-10T04:56:36.092106200Z",
     "start_time": "2023-12-10T04:56:34.851177600Z"
    }
   }
  },
  {
   "cell_type": "code",
   "execution_count": 27,
   "outputs": [
    {
     "data": {
      "text/plain": "{'algorithm': 'auto',\n 'leaf_size': 1,\n 'metric': 'minkowski',\n 'metric_params': None,\n 'n_jobs': None,\n 'n_neighbors': 17,\n 'p': 1,\n 'weights': 'uniform'}"
     },
     "execution_count": 27,
     "metadata": {},
     "output_type": "execute_result"
    }
   ],
   "source": [
    "knn_post_grid_search_estimator.get_params()"
   ],
   "metadata": {
    "collapsed": false,
    "ExecuteTime": {
     "end_time": "2023-12-10T04:53:50.113878Z",
     "start_time": "2023-12-10T04:53:34.973969900Z"
    }
   }
  },
  {
   "cell_type": "markdown",
   "source": [
    "Références: \n",
    "0 : https://medium.com/@dtuk81/confusion-matrix-visualization-fc31e3f30fea"
   ],
   "metadata": {
    "collapsed": false
   }
  }
 ],
 "metadata": {
  "kernelspec": {
   "display_name": "Python 3",
   "language": "python",
   "name": "python3"
  },
  "language_info": {
   "codemirror_mode": {
    "name": "ipython",
    "version": 3
   },
   "file_extension": ".py",
   "mimetype": "text/x-python",
   "name": "python",
   "nbconvert_exporter": "python",
   "pygments_lexer": "ipython3",
   "version": "3.7.1"
  }
 },
 "nbformat": 4,
 "nbformat_minor": 2
}
